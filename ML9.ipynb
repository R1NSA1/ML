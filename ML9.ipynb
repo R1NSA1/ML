{
 "cells": [
  {
   "cell_type": "markdown",
   "metadata": {
    "id": "DY6KfR5twAZ2"
   },
   "source": [
    "## Семинар 9\n",
    "\n",
    "# Тема: Логистическая регрессия для данных с множеством признаков"
   ]
  },
  {
   "cell_type": "markdown",
   "metadata": {
    "id": "JE3-i5DkwAZ9"
   },
   "source": [
    "В матричном виде:\n",
    "\n",
    "$\\tilde{X}=\\begin{pmatrix}\n",
    "1 &  x_{1 1} & x_{1 2}& \\dots & x_{1 m}\\\\\n",
    "   \\vdots &  \\vdots & \\dots &  \\vdots\\\\\n",
    "1 &  x_{n 1} & x_{n 2}& \\dots & x_{n m}\n",
    "\\end{pmatrix}$ - матрица признаков с добавленным столбцом из едениц\n",
    "\n",
    "$\\quad \\vec{y}=\\begin{pmatrix}\n",
    "  y_1\\\\\n",
    "   \\vdots \\\\\n",
    "  y_n\n",
    "\\end{pmatrix}$ - целевая переменная состоит из 0 и 1\n",
    "\n",
    "$\\quad \\vec{w}=\\begin{pmatrix}\n",
    "w_0\\\\\n",
    "w_1\\\\\n",
    "\\vdots \\\\\n",
    "w_m\n",
    "\\end{pmatrix}$ - параметры гиперплоскости\n",
    "\n",
    "$\\sigma(z) = \\dfrac{1}{1 + e^{- z}}$ - сигмоидная функция\n",
    "\n",
    "$\\vec{p} = \\sigma(\\tilde{X}\\vec{w})$ - предсказанные значения вероятностей принадлежности единичному классу\n",
    "\n",
    "Функция ошибки (logLoss): $logLoss(\\vec y, \\vec p) = -\\frac{1}{n}\\sum_{i=1}^{n} (y_i \\ln (p_i) + (1 - y_i) \\ln (1 - p_i))$\n",
    "\n",
    "Градиент функции ошибки:\n",
    "$\\begin{pmatrix}\n",
    "  \\frac{\\partial logLoss}{\\partial w_0}\\\\\n",
    "  \\frac{\\partial logLoss}{\\partial w_1}\\\\\n",
    "   \\vdots \\\\\n",
    " \\frac{\\partial logLoss}{\\partial w_m}\n",
    "\\end{pmatrix}=\\frac{1}{n}\\tilde{X}^T(\\sigma(\\tilde{X}\\vec{w})- \\vec{y})$\n",
    "\n",
    "**Метод градиентного спуска в случае логистической регрессии с m признаками:**\n",
    "\n",
    "$\\vec{w}^{j+1} = \\vec{w}^{j} - \\alpha \\frac{1}{n}\\tilde{X}^T(\\sigma(\\tilde{X}\\vec{w}^{j+1})- \\vec{y}), \\quad j= 1,\\dots , k$\n",
    "\n",
    "Градиентный спуск может быть усовершенствован до стохастического градиентного спуска, при котором данные для оптимизации подгружаются небольшими, случайно выбранными, партиями, что уменьшает требования по памяти.\n",
    "\n",
    "Алгоритм логистической регрессии позволяет получить не только предсказанную метку класса, но и вероятность принадлежности этому классу. Эти вероятности для модели LogisticRegression в sklearn можно получить с помощью метода .predict_proba."
   ]
  },
  {
   "cell_type": "markdown",
   "metadata": {
    "id": "VtKkv70TwAZ_"
   },
   "source": [
    "Импортируем необходимые библиотеки:"
   ]
  },
  {
   "cell_type": "code",
   "execution_count": 1,
   "metadata": {
    "id": "Yg-3Xb1uwAZ_"
   },
   "outputs": [],
   "source": [
    "import numpy as np\n",
    "import pandas as pd\n",
    "import matplotlib.pyplot as plt\n",
    "import seaborn as sns\n",
    "\n",
    "from sklearn.datasets import make_classification\n",
    "from sklearn.linear_model import LogisticRegression"
   ]
  },
  {
   "cell_type": "markdown",
   "metadata": {
    "id": "GyanizZ7nWNe"
   },
   "source": [
    "### Обучение модели логистической регрессии на sklearn"
   ]
  },
  {
   "cell_type": "markdown",
   "metadata": {
    "id": "-0fA5dWJnWNe"
   },
   "source": [
    "Генерируем данные:"
   ]
  },
  {
   "cell_type": "code",
   "execution_count": 2,
   "metadata": {
    "id": "HP1C-BrKnWNe"
   },
   "outputs": [],
   "source": [
    "X,y = make_classification (n_samples=100,\n",
    "                          n_features=3,\n",
    "                          n_informative=2,\n",
    "                          n_redundant=1,\n",
    "                          n_classes=2,\n",
    "                          random_state=42)"
   ]
  },
  {
   "cell_type": "code",
   "execution_count": 3,
   "metadata": {
    "colab": {
     "base_uri": "https://localhost:8080/"
    },
    "id": "gl9jme6enWNe",
    "outputId": "6b88d17e-adcc-499c-9ae9-f5495ab5ef38"
   },
   "outputs": [
    {
     "data": {
      "text/plain": [
       "array([[ 1.19664076,  1.19520687, -0.80804463],\n",
       "       [-0.35885569, -0.81522223,  1.65214494],\n",
       "       [-0.38919817, -0.79145712,  1.50575249],\n",
       "       [ 1.09180466,  0.46971052,  1.17869556],\n",
       "       [ 2.30450019,  1.20138599,  1.83991037]])"
      ]
     },
     "execution_count": 3,
     "metadata": {},
     "output_type": "execute_result"
    }
   ],
   "source": [
    "X[:5]"
   ]
  },
  {
   "cell_type": "markdown",
   "metadata": {
    "id": "FaJUoQO8nWNf"
   },
   "source": [
    "Создаём модель (объект класса) логистической регрессии:"
   ]
  },
  {
   "cell_type": "code",
   "execution_count": 4,
   "metadata": {
    "id": "uxIuqeCTnWNf"
   },
   "outputs": [],
   "source": [
    "model = LogisticRegression()"
   ]
  },
  {
   "cell_type": "markdown",
   "metadata": {
    "id": "aLrQVMd7nWNf"
   },
   "source": [
    "Обучаем модель:"
   ]
  },
  {
   "cell_type": "code",
   "execution_count": 5,
   "metadata": {
    "colab": {
     "base_uri": "https://localhost:8080/",
     "height": 80
    },
    "id": "zHnwmUVjnWNf",
    "outputId": "b8f068bc-8818-4a61-9315-09ad7bac4bc6"
   },
   "outputs": [
    {
     "data": {
      "text/html": [
       "<style>#sk-container-id-1 {color: black;}#sk-container-id-1 pre{padding: 0;}#sk-container-id-1 div.sk-toggleable {background-color: white;}#sk-container-id-1 label.sk-toggleable__label {cursor: pointer;display: block;width: 100%;margin-bottom: 0;padding: 0.3em;box-sizing: border-box;text-align: center;}#sk-container-id-1 label.sk-toggleable__label-arrow:before {content: \"▸\";float: left;margin-right: 0.25em;color: #696969;}#sk-container-id-1 label.sk-toggleable__label-arrow:hover:before {color: black;}#sk-container-id-1 div.sk-estimator:hover label.sk-toggleable__label-arrow:before {color: black;}#sk-container-id-1 div.sk-toggleable__content {max-height: 0;max-width: 0;overflow: hidden;text-align: left;background-color: #f0f8ff;}#sk-container-id-1 div.sk-toggleable__content pre {margin: 0.2em;color: black;border-radius: 0.25em;background-color: #f0f8ff;}#sk-container-id-1 input.sk-toggleable__control:checked~div.sk-toggleable__content {max-height: 200px;max-width: 100%;overflow: auto;}#sk-container-id-1 input.sk-toggleable__control:checked~label.sk-toggleable__label-arrow:before {content: \"▾\";}#sk-container-id-1 div.sk-estimator input.sk-toggleable__control:checked~label.sk-toggleable__label {background-color: #d4ebff;}#sk-container-id-1 div.sk-label input.sk-toggleable__control:checked~label.sk-toggleable__label {background-color: #d4ebff;}#sk-container-id-1 input.sk-hidden--visually {border: 0;clip: rect(1px 1px 1px 1px);clip: rect(1px, 1px, 1px, 1px);height: 1px;margin: -1px;overflow: hidden;padding: 0;position: absolute;width: 1px;}#sk-container-id-1 div.sk-estimator {font-family: monospace;background-color: #f0f8ff;border: 1px dotted black;border-radius: 0.25em;box-sizing: border-box;margin-bottom: 0.5em;}#sk-container-id-1 div.sk-estimator:hover {background-color: #d4ebff;}#sk-container-id-1 div.sk-parallel-item::after {content: \"\";width: 100%;border-bottom: 1px solid gray;flex-grow: 1;}#sk-container-id-1 div.sk-label:hover label.sk-toggleable__label {background-color: #d4ebff;}#sk-container-id-1 div.sk-serial::before {content: \"\";position: absolute;border-left: 1px solid gray;box-sizing: border-box;top: 0;bottom: 0;left: 50%;z-index: 0;}#sk-container-id-1 div.sk-serial {display: flex;flex-direction: column;align-items: center;background-color: white;padding-right: 0.2em;padding-left: 0.2em;position: relative;}#sk-container-id-1 div.sk-item {position: relative;z-index: 1;}#sk-container-id-1 div.sk-parallel {display: flex;align-items: stretch;justify-content: center;background-color: white;position: relative;}#sk-container-id-1 div.sk-item::before, #sk-container-id-1 div.sk-parallel-item::before {content: \"\";position: absolute;border-left: 1px solid gray;box-sizing: border-box;top: 0;bottom: 0;left: 50%;z-index: -1;}#sk-container-id-1 div.sk-parallel-item {display: flex;flex-direction: column;z-index: 1;position: relative;background-color: white;}#sk-container-id-1 div.sk-parallel-item:first-child::after {align-self: flex-end;width: 50%;}#sk-container-id-1 div.sk-parallel-item:last-child::after {align-self: flex-start;width: 50%;}#sk-container-id-1 div.sk-parallel-item:only-child::after {width: 0;}#sk-container-id-1 div.sk-dashed-wrapped {border: 1px dashed gray;margin: 0 0.4em 0.5em 0.4em;box-sizing: border-box;padding-bottom: 0.4em;background-color: white;}#sk-container-id-1 div.sk-label label {font-family: monospace;font-weight: bold;display: inline-block;line-height: 1.2em;}#sk-container-id-1 div.sk-label-container {text-align: center;}#sk-container-id-1 div.sk-container {/* jupyter's `normalize.less` sets `[hidden] { display: none; }` but bootstrap.min.css set `[hidden] { display: none !important; }` so we also need the `!important` here to be able to override the default hidden behavior on the sphinx rendered scikit-learn.org. See: https://github.com/scikit-learn/scikit-learn/issues/21755 */display: inline-block !important;position: relative;}#sk-container-id-1 div.sk-text-repr-fallback {display: none;}</style><div id=\"sk-container-id-1\" class=\"sk-top-container\"><div class=\"sk-text-repr-fallback\"><pre>LogisticRegression()</pre><b>In a Jupyter environment, please rerun this cell to show the HTML representation or trust the notebook. <br />On GitHub, the HTML representation is unable to render, please try loading this page with nbviewer.org.</b></div><div class=\"sk-container\" hidden><div class=\"sk-item\"><div class=\"sk-estimator sk-toggleable\"><input class=\"sk-toggleable__control sk-hidden--visually\" id=\"sk-estimator-id-1\" type=\"checkbox\" checked><label for=\"sk-estimator-id-1\" class=\"sk-toggleable__label sk-toggleable__label-arrow\">LogisticRegression</label><div class=\"sk-toggleable__content\"><pre>LogisticRegression()</pre></div></div></div></div></div>"
      ],
      "text/plain": [
       "LogisticRegression()"
      ]
     },
     "execution_count": 5,
     "metadata": {},
     "output_type": "execute_result"
    }
   ],
   "source": [
    "model.fit(X, y)"
   ]
  },
  {
   "cell_type": "markdown",
   "metadata": {
    "id": "9CK8NHmvnWNf"
   },
   "source": [
    "Выводим найденные коэффициенты логистической регрессии.\n",
    "\n",
    "Свободный коэффициент:"
   ]
  },
  {
   "cell_type": "code",
   "execution_count": 6,
   "metadata": {
    "colab": {
     "base_uri": "https://localhost:8080/"
    },
    "id": "SJDfBYAUnWNg",
    "outputId": "6d067f82-53e4-404c-9c47-80f2e11d7b90"
   },
   "outputs": [
    {
     "data": {
      "text/plain": [
       "array([0.07405267])"
      ]
     },
     "execution_count": 6,
     "metadata": {},
     "output_type": "execute_result"
    }
   ],
   "source": [
    "model.intercept_"
   ]
  },
  {
   "cell_type": "markdown",
   "metadata": {
    "id": "JbUDKG7rnWNg"
   },
   "source": [
    "Веса:"
   ]
  },
  {
   "cell_type": "code",
   "execution_count": 7,
   "metadata": {
    "colab": {
     "base_uri": "https://localhost:8080/"
    },
    "id": "IaeX5P1xnWNg",
    "outputId": "6e0452d4-95ae-42bc-bda5-f5552b245a94"
   },
   "outputs": [
    {
     "data": {
      "text/plain": [
       "array([[-0.1380904 , -1.09804133,  3.05648065]])"
      ]
     },
     "execution_count": 7,
     "metadata": {},
     "output_type": "execute_result"
    }
   ],
   "source": [
    "model.coef_"
   ]
  },
  {
   "cell_type": "markdown",
   "metadata": {
    "id": "YaCDU3DgnWNg"
   },
   "source": [
    "Делаем предсказание:"
   ]
  },
  {
   "cell_type": "code",
   "execution_count": 8,
   "metadata": {
    "colab": {
     "base_uri": "https://localhost:8080/"
    },
    "id": "LfDAq3ornWNg",
    "outputId": "8dc7f033-18e3-4ed1-c61c-ccb7ed2979c3"
   },
   "outputs": [
    {
     "data": {
      "text/plain": [
       "array([0, 1, 1, 1, 1, 1, 1, 1, 0, 1, 1, 0, 0, 0, 0, 1, 1, 0, 1, 1, 0, 0,\n",
       "       0, 0, 0, 0, 0, 0, 0, 1, 1, 1, 0, 1, 1, 1, 0, 1, 1, 1, 0, 0, 0, 0,\n",
       "       1, 1, 0, 1, 0, 1, 0, 0, 1, 1, 1, 1, 0, 1, 0, 1, 1, 1, 0, 0, 0, 0,\n",
       "       0, 1, 0, 0, 0, 1, 1, 0, 0, 1, 1, 0, 1, 1, 0, 0, 0, 1, 0, 0, 1, 1,\n",
       "       0, 1, 0, 0, 0, 0, 1, 0, 1, 1, 1, 0])"
      ]
     },
     "execution_count": 8,
     "metadata": {},
     "output_type": "execute_result"
    }
   ],
   "source": [
    "y_pred = model.predict(X)\n",
    "y_pred"
   ]
  },
  {
   "cell_type": "markdown",
   "metadata": {
    "id": "OlkgGLENnWNg"
   },
   "source": [
    "### 1. Сгенерируйте данные для задачи бинарной классификации с 5 признаками и 10000 наблюдениями. Причём целевая переменная должна зависеть от всех 5 признаков. Выведите признаки в виде датафрейма (первые 7 строк), дав названия колонкам. Выведите описательную статистику признаков.\n",
    "Указание: Для этого воспользуйтесь [make_classification](https://scikit-learn.org/stable/modules/generated/sklearn.datasets.make_classification.html), задав параметры: число строк n_samples=10000, число признаков n_features=5, число признаков от которых зависит целевая переменная n_informative=5, число избыточных признаков (т.е. признаков, являющихся линейными комбинациями признаков от которых зависит целевая переменная) n_redundant=0, фиксируем воспроизводимость случайных данных random_state=42."
   ]
  },
  {
   "cell_type": "code",
   "execution_count": 9,
   "metadata": {
    "colab": {
     "base_uri": "https://localhost:8080/",
     "height": 269
    },
    "id": "eLNhP5KdnWNg",
    "outputId": "f4ff83ce-8002-49ff-fc5b-7894e6d97963"
   },
   "outputs": [
    {
     "data": {
      "text/html": [
       "<div>\n",
       "<style scoped>\n",
       "    .dataframe tbody tr th:only-of-type {\n",
       "        vertical-align: middle;\n",
       "    }\n",
       "\n",
       "    .dataframe tbody tr th {\n",
       "        vertical-align: top;\n",
       "    }\n",
       "\n",
       "    .dataframe thead th {\n",
       "        text-align: right;\n",
       "    }\n",
       "</style>\n",
       "<table border=\"1\" class=\"dataframe\">\n",
       "  <thead>\n",
       "    <tr style=\"text-align: right;\">\n",
       "      <th></th>\n",
       "      <th>Feature_1</th>\n",
       "      <th>Feature_2</th>\n",
       "      <th>Feature_3</th>\n",
       "      <th>Feature_4</th>\n",
       "      <th>Feature_5</th>\n",
       "      <th>Target</th>\n",
       "    </tr>\n",
       "  </thead>\n",
       "  <tbody>\n",
       "    <tr>\n",
       "      <th>0</th>\n",
       "      <td>0.413771</td>\n",
       "      <td>-0.679695</td>\n",
       "      <td>0.696445</td>\n",
       "      <td>-1.011996</td>\n",
       "      <td>0.023438</td>\n",
       "      <td>0</td>\n",
       "    </tr>\n",
       "    <tr>\n",
       "      <th>1</th>\n",
       "      <td>-2.529262</td>\n",
       "      <td>-1.659529</td>\n",
       "      <td>-0.777398</td>\n",
       "      <td>1.383956</td>\n",
       "      <td>-1.939879</td>\n",
       "      <td>1</td>\n",
       "    </tr>\n",
       "    <tr>\n",
       "      <th>2</th>\n",
       "      <td>3.788475</td>\n",
       "      <td>-0.264013</td>\n",
       "      <td>1.060993</td>\n",
       "      <td>2.136322</td>\n",
       "      <td>1.438631</td>\n",
       "      <td>0</td>\n",
       "    </tr>\n",
       "    <tr>\n",
       "      <th>3</th>\n",
       "      <td>-4.179447</td>\n",
       "      <td>-1.467648</td>\n",
       "      <td>-1.743610</td>\n",
       "      <td>-2.705746</td>\n",
       "      <td>-2.077344</td>\n",
       "      <td>0</td>\n",
       "    </tr>\n",
       "    <tr>\n",
       "      <th>4</th>\n",
       "      <td>3.244131</td>\n",
       "      <td>-1.951404</td>\n",
       "      <td>0.183896</td>\n",
       "      <td>1.595039</td>\n",
       "      <td>-0.267496</td>\n",
       "      <td>0</td>\n",
       "    </tr>\n",
       "    <tr>\n",
       "      <th>5</th>\n",
       "      <td>0.867337</td>\n",
       "      <td>-0.538058</td>\n",
       "      <td>0.735722</td>\n",
       "      <td>1.911749</td>\n",
       "      <td>-0.089576</td>\n",
       "      <td>1</td>\n",
       "    </tr>\n",
       "    <tr>\n",
       "      <th>6</th>\n",
       "      <td>0.199549</td>\n",
       "      <td>3.947709</td>\n",
       "      <td>1.209587</td>\n",
       "      <td>3.132776</td>\n",
       "      <td>-0.875606</td>\n",
       "      <td>0</td>\n",
       "    </tr>\n",
       "  </tbody>\n",
       "</table>\n",
       "</div>"
      ],
      "text/plain": [
       "   Feature_1  Feature_2  Feature_3  Feature_4  Feature_5  Target\n",
       "0   0.413771  -0.679695   0.696445  -1.011996   0.023438       0\n",
       "1  -2.529262  -1.659529  -0.777398   1.383956  -1.939879       1\n",
       "2   3.788475  -0.264013   1.060993   2.136322   1.438631       0\n",
       "3  -4.179447  -1.467648  -1.743610  -2.705746  -2.077344       0\n",
       "4   3.244131  -1.951404   0.183896   1.595039  -0.267496       0\n",
       "5   0.867337  -0.538058   0.735722   1.911749  -0.089576       1\n",
       "6   0.199549   3.947709   1.209587   3.132776  -0.875606       0"
      ]
     },
     "execution_count": 9,
     "metadata": {},
     "output_type": "execute_result"
    }
   ],
   "source": [
    "X, y = make_classification(n_samples=10000, n_features=5, n_informative=5, n_redundant=0, random_state=42)\n",
    "\n",
    "df = pd.DataFrame(X, columns=[\"Feature_1\", \"Feature_2\", \"Feature_3\", \"Feature_4\", \"Feature_5\"])\n",
    "df['Target'] = y\n",
    "\n",
    "df.head(7)"
   ]
  },
  {
   "cell_type": "code",
   "execution_count": 10,
   "metadata": {
    "colab": {
     "base_uri": "https://localhost:8080/",
     "height": 300
    },
    "id": "0cP50vXaooG8",
    "outputId": "0c0ad896-9c6d-4640-db45-6a0f49505ab2"
   },
   "outputs": [
    {
     "data": {
      "text/html": [
       "<div>\n",
       "<style scoped>\n",
       "    .dataframe tbody tr th:only-of-type {\n",
       "        vertical-align: middle;\n",
       "    }\n",
       "\n",
       "    .dataframe tbody tr th {\n",
       "        vertical-align: top;\n",
       "    }\n",
       "\n",
       "    .dataframe thead th {\n",
       "        text-align: right;\n",
       "    }\n",
       "</style>\n",
       "<table border=\"1\" class=\"dataframe\">\n",
       "  <thead>\n",
       "    <tr style=\"text-align: right;\">\n",
       "      <th></th>\n",
       "      <th>Feature_1</th>\n",
       "      <th>Feature_2</th>\n",
       "      <th>Feature_3</th>\n",
       "      <th>Feature_4</th>\n",
       "      <th>Feature_5</th>\n",
       "      <th>Target</th>\n",
       "    </tr>\n",
       "  </thead>\n",
       "  <tbody>\n",
       "    <tr>\n",
       "      <th>count</th>\n",
       "      <td>10000.000000</td>\n",
       "      <td>10000.000000</td>\n",
       "      <td>10000.000000</td>\n",
       "      <td>10000.000000</td>\n",
       "      <td>10000.000000</td>\n",
       "      <td>10000.000000</td>\n",
       "    </tr>\n",
       "    <tr>\n",
       "      <th>mean</th>\n",
       "      <td>-0.001747</td>\n",
       "      <td>0.494744</td>\n",
       "      <td>0.482548</td>\n",
       "      <td>0.495967</td>\n",
       "      <td>-0.504918</td>\n",
       "      <td>0.499100</td>\n",
       "    </tr>\n",
       "    <tr>\n",
       "      <th>std</th>\n",
       "      <td>1.741897</td>\n",
       "      <td>1.691527</td>\n",
       "      <td>1.659533</td>\n",
       "      <td>1.550654</td>\n",
       "      <td>1.508630</td>\n",
       "      <td>0.500024</td>\n",
       "    </tr>\n",
       "    <tr>\n",
       "      <th>min</th>\n",
       "      <td>-7.263252</td>\n",
       "      <td>-6.093968</td>\n",
       "      <td>-5.334871</td>\n",
       "      <td>-5.324103</td>\n",
       "      <td>-6.361942</td>\n",
       "      <td>0.000000</td>\n",
       "    </tr>\n",
       "    <tr>\n",
       "      <th>25%</th>\n",
       "      <td>-1.167635</td>\n",
       "      <td>-0.683290</td>\n",
       "      <td>-0.605466</td>\n",
       "      <td>-0.531950</td>\n",
       "      <td>-1.577609</td>\n",
       "      <td>0.000000</td>\n",
       "    </tr>\n",
       "    <tr>\n",
       "      <th>50%</th>\n",
       "      <td>0.106329</td>\n",
       "      <td>0.514894</td>\n",
       "      <td>0.560414</td>\n",
       "      <td>0.573435</td>\n",
       "      <td>-0.511353</td>\n",
       "      <td>0.000000</td>\n",
       "    </tr>\n",
       "    <tr>\n",
       "      <th>75%</th>\n",
       "      <td>1.223766</td>\n",
       "      <td>1.649242</td>\n",
       "      <td>1.582486</td>\n",
       "      <td>1.549795</td>\n",
       "      <td>0.600683</td>\n",
       "      <td>1.000000</td>\n",
       "    </tr>\n",
       "    <tr>\n",
       "      <th>max</th>\n",
       "      <td>5.944183</td>\n",
       "      <td>6.815690</td>\n",
       "      <td>6.784181</td>\n",
       "      <td>6.824402</td>\n",
       "      <td>5.445003</td>\n",
       "      <td>1.000000</td>\n",
       "    </tr>\n",
       "  </tbody>\n",
       "</table>\n",
       "</div>"
      ],
      "text/plain": [
       "          Feature_1     Feature_2     Feature_3     Feature_4     Feature_5  \\\n",
       "count  10000.000000  10000.000000  10000.000000  10000.000000  10000.000000   \n",
       "mean      -0.001747      0.494744      0.482548      0.495967     -0.504918   \n",
       "std        1.741897      1.691527      1.659533      1.550654      1.508630   \n",
       "min       -7.263252     -6.093968     -5.334871     -5.324103     -6.361942   \n",
       "25%       -1.167635     -0.683290     -0.605466     -0.531950     -1.577609   \n",
       "50%        0.106329      0.514894      0.560414      0.573435     -0.511353   \n",
       "75%        1.223766      1.649242      1.582486      1.549795      0.600683   \n",
       "max        5.944183      6.815690      6.784181      6.824402      5.445003   \n",
       "\n",
       "             Target  \n",
       "count  10000.000000  \n",
       "mean       0.499100  \n",
       "std        0.500024  \n",
       "min        0.000000  \n",
       "25%        0.000000  \n",
       "50%        0.000000  \n",
       "75%        1.000000  \n",
       "max        1.000000  "
      ]
     },
     "execution_count": 10,
     "metadata": {},
     "output_type": "execute_result"
    }
   ],
   "source": [
    "df.describe()"
   ]
  },
  {
   "cell_type": "markdown",
   "metadata": {
    "id": "BviXxeB6nWNg"
   },
   "source": [
    "### 2. Целевую переменную выведите в виде серии и определите количество элементов в каждом классе."
   ]
  },
  {
   "cell_type": "code",
   "execution_count": 11,
   "metadata": {
    "colab": {
     "base_uri": "https://localhost:8080/",
     "height": 241
    },
    "id": "u-oXf2oonWNg",
    "outputId": "6d9ab097-2a85-43e4-8e4a-34d4963052b9"
   },
   "outputs": [
    {
     "data": {
      "text/plain": [
       "0    0\n",
       "1    1\n",
       "2    0\n",
       "3    0\n",
       "4    0\n",
       "Name: Target, dtype: int32"
      ]
     },
     "execution_count": 11,
     "metadata": {},
     "output_type": "execute_result"
    }
   ],
   "source": [
    "target_series = df['Target']\n",
    "target_series.head()"
   ]
  },
  {
   "cell_type": "code",
   "execution_count": 12,
   "metadata": {
    "colab": {
     "base_uri": "https://localhost:8080/",
     "height": 178
    },
    "id": "1tCfzaYUowlT",
    "outputId": "3f47294e-bb65-4d86-c5ee-02eb3c9d7a62"
   },
   "outputs": [
    {
     "data": {
      "text/plain": [
       "Target\n",
       "0    5009\n",
       "1    4991\n",
       "Name: count, dtype: int64"
      ]
     },
     "execution_count": 12,
     "metadata": {},
     "output_type": "execute_result"
    }
   ],
   "source": [
    "target_series.value_counts()"
   ]
  },
  {
   "cell_type": "code",
   "execution_count": 13,
   "metadata": {
    "colab": {
     "base_uri": "https://localhost:8080/",
     "height": 458
    },
    "id": "15sAaeBXo6kS",
    "outputId": "8e1a0d9c-b848-4eb0-d2cb-4390dbf971a4"
   },
   "outputs": [
    {
     "data": {
      "text/plain": [
       "0       0\n",
       "1       1\n",
       "2       0\n",
       "3       0\n",
       "4       0\n",
       "       ..\n",
       "9995    0\n",
       "9996    1\n",
       "9997    0\n",
       "9998    0\n",
       "9999    0\n",
       "Length: 10000, dtype: int32"
      ]
     },
     "execution_count": 13,
     "metadata": {},
     "output_type": "execute_result"
    }
   ],
   "source": [
    "y_series = pd.Series(y)\n",
    "y_series"
   ]
  },
  {
   "cell_type": "code",
   "execution_count": 14,
   "metadata": {
    "colab": {
     "base_uri": "https://localhost:8080/",
     "height": 147
    },
    "id": "qLyLMuYcpN77",
    "outputId": "0fd35aad-a9ff-4e18-e379-2cb5d3ba9404"
   },
   "outputs": [
    {
     "data": {
      "text/plain": [
       "0    5009\n",
       "1    4991\n",
       "Name: count, dtype: int64"
      ]
     },
     "execution_count": 14,
     "metadata": {},
     "output_type": "execute_result"
    }
   ],
   "source": [
    "y_series.value_counts()"
   ]
  },
  {
   "cell_type": "markdown",
   "metadata": {
    "id": "0e4zZqV9nWNh"
   },
   "source": [
    "### 3. Напишите функцию X_, которая принимает матрицу (двумерный numpy-массив) и присоединяет столбец единиц к ней слева. Примените функцию к сгенерированным выше признакам X.\n",
    "Указание: Можно воспользоваться методом concatenate, либо hstack."
   ]
  },
  {
   "cell_type": "raw",
   "metadata": {
    "id": "kj3prNlpnWNh"
   },
   "source": [
    "def X_(X):\n",
    "        return ..."
   ]
  },
  {
   "cell_type": "code",
   "execution_count": 15,
   "metadata": {
    "id": "cWUh99AtnWNh"
   },
   "outputs": [],
   "source": [
    "def X_(matrix):\n",
    "    ones_column = np.ones((matrix.shape[0], 1))\n",
    "    return np.concatenate((ones_column, matrix), axis=1)\n",
    "\n",
    "X_with_ones = X_(X)"
   ]
  },
  {
   "cell_type": "code",
   "execution_count": 16,
   "metadata": {
    "colab": {
     "base_uri": "https://localhost:8080/",
     "height": 424
    },
    "id": "_kFWMGqeqH_z",
    "outputId": "eb1dbc6d-5279-439c-ed8e-5c0d79aa811b"
   },
   "outputs": [
    {
     "data": {
      "text/html": [
       "<div>\n",
       "<style scoped>\n",
       "    .dataframe tbody tr th:only-of-type {\n",
       "        vertical-align: middle;\n",
       "    }\n",
       "\n",
       "    .dataframe tbody tr th {\n",
       "        vertical-align: top;\n",
       "    }\n",
       "\n",
       "    .dataframe thead th {\n",
       "        text-align: right;\n",
       "    }\n",
       "</style>\n",
       "<table border=\"1\" class=\"dataframe\">\n",
       "  <thead>\n",
       "    <tr style=\"text-align: right;\">\n",
       "      <th></th>\n",
       "      <th>0</th>\n",
       "      <th>1</th>\n",
       "      <th>2</th>\n",
       "      <th>3</th>\n",
       "      <th>4</th>\n",
       "      <th>5</th>\n",
       "    </tr>\n",
       "  </thead>\n",
       "  <tbody>\n",
       "    <tr>\n",
       "      <th>0</th>\n",
       "      <td>1.0</td>\n",
       "      <td>0.413771</td>\n",
       "      <td>-0.679695</td>\n",
       "      <td>0.696445</td>\n",
       "      <td>-1.011996</td>\n",
       "      <td>0.023438</td>\n",
       "    </tr>\n",
       "    <tr>\n",
       "      <th>1</th>\n",
       "      <td>1.0</td>\n",
       "      <td>-2.529262</td>\n",
       "      <td>-1.659529</td>\n",
       "      <td>-0.777398</td>\n",
       "      <td>1.383956</td>\n",
       "      <td>-1.939879</td>\n",
       "    </tr>\n",
       "    <tr>\n",
       "      <th>2</th>\n",
       "      <td>1.0</td>\n",
       "      <td>3.788475</td>\n",
       "      <td>-0.264013</td>\n",
       "      <td>1.060993</td>\n",
       "      <td>2.136322</td>\n",
       "      <td>1.438631</td>\n",
       "    </tr>\n",
       "    <tr>\n",
       "      <th>3</th>\n",
       "      <td>1.0</td>\n",
       "      <td>-4.179447</td>\n",
       "      <td>-1.467648</td>\n",
       "      <td>-1.743610</td>\n",
       "      <td>-2.705746</td>\n",
       "      <td>-2.077344</td>\n",
       "    </tr>\n",
       "    <tr>\n",
       "      <th>4</th>\n",
       "      <td>1.0</td>\n",
       "      <td>3.244131</td>\n",
       "      <td>-1.951404</td>\n",
       "      <td>0.183896</td>\n",
       "      <td>1.595039</td>\n",
       "      <td>-0.267496</td>\n",
       "    </tr>\n",
       "    <tr>\n",
       "      <th>...</th>\n",
       "      <td>...</td>\n",
       "      <td>...</td>\n",
       "      <td>...</td>\n",
       "      <td>...</td>\n",
       "      <td>...</td>\n",
       "      <td>...</td>\n",
       "    </tr>\n",
       "    <tr>\n",
       "      <th>9995</th>\n",
       "      <td>1.0</td>\n",
       "      <td>0.752305</td>\n",
       "      <td>2.086892</td>\n",
       "      <td>2.584542</td>\n",
       "      <td>-0.707115</td>\n",
       "      <td>-0.337462</td>\n",
       "    </tr>\n",
       "    <tr>\n",
       "      <th>9996</th>\n",
       "      <td>1.0</td>\n",
       "      <td>-0.916575</td>\n",
       "      <td>-0.679794</td>\n",
       "      <td>-2.024803</td>\n",
       "      <td>-1.204436</td>\n",
       "      <td>0.877358</td>\n",
       "    </tr>\n",
       "    <tr>\n",
       "      <th>9997</th>\n",
       "      <td>1.0</td>\n",
       "      <td>-1.228897</td>\n",
       "      <td>2.652763</td>\n",
       "      <td>-0.161137</td>\n",
       "      <td>1.988002</td>\n",
       "      <td>-1.978933</td>\n",
       "    </tr>\n",
       "    <tr>\n",
       "      <th>9998</th>\n",
       "      <td>1.0</td>\n",
       "      <td>0.062879</td>\n",
       "      <td>2.169006</td>\n",
       "      <td>-0.090181</td>\n",
       "      <td>3.340848</td>\n",
       "      <td>-1.501572</td>\n",
       "    </tr>\n",
       "    <tr>\n",
       "      <th>9999</th>\n",
       "      <td>1.0</td>\n",
       "      <td>0.025744</td>\n",
       "      <td>2.993513</td>\n",
       "      <td>1.766144</td>\n",
       "      <td>-0.072282</td>\n",
       "      <td>-0.780673</td>\n",
       "    </tr>\n",
       "  </tbody>\n",
       "</table>\n",
       "<p>10000 rows × 6 columns</p>\n",
       "</div>"
      ],
      "text/plain": [
       "        0         1         2         3         4         5\n",
       "0     1.0  0.413771 -0.679695  0.696445 -1.011996  0.023438\n",
       "1     1.0 -2.529262 -1.659529 -0.777398  1.383956 -1.939879\n",
       "2     1.0  3.788475 -0.264013  1.060993  2.136322  1.438631\n",
       "3     1.0 -4.179447 -1.467648 -1.743610 -2.705746 -2.077344\n",
       "4     1.0  3.244131 -1.951404  0.183896  1.595039 -0.267496\n",
       "...   ...       ...       ...       ...       ...       ...\n",
       "9995  1.0  0.752305  2.086892  2.584542 -0.707115 -0.337462\n",
       "9996  1.0 -0.916575 -0.679794 -2.024803 -1.204436  0.877358\n",
       "9997  1.0 -1.228897  2.652763 -0.161137  1.988002 -1.978933\n",
       "9998  1.0  0.062879  2.169006 -0.090181  3.340848 -1.501572\n",
       "9999  1.0  0.025744  2.993513  1.766144 -0.072282 -0.780673\n",
       "\n",
       "[10000 rows x 6 columns]"
      ]
     },
     "execution_count": 16,
     "metadata": {},
     "output_type": "execute_result"
    }
   ],
   "source": [
    "pd.DataFrame(X_with_ones)"
   ]
  },
  {
   "cell_type": "markdown",
   "metadata": {
    "id": "u6LTiZhAnWNh"
   },
   "source": [
    "### 3. Напишите функцию сигмоида $\\sigma(z) = \\dfrac{1}{1 + e^{- z}}.$ Вычислите её значения на случайном векторе длины 10000."
   ]
  },
  {
   "cell_type": "code",
   "execution_count": 17,
   "metadata": {
    "id": "B-TnCYm7nWNh"
   },
   "outputs": [],
   "source": [
    "def sigmoid(z):\n",
    "    return 1 / (1 + np.exp(-z))\n",
    "\n",
    "random_vector = np.random.randn(10000)\n",
    "\n",
    "sigmoid_values = sigmoid(random_vector)"
   ]
  },
  {
   "cell_type": "code",
   "execution_count": 18,
   "metadata": {
    "colab": {
     "base_uri": "https://localhost:8080/"
    },
    "id": "5llVttmwqT8y",
    "outputId": "f05fcad3-496d-4ceb-c834-0e5d2363e90f"
   },
   "outputs": [
    {
     "data": {
      "text/plain": [
       "array([0.29171563, 0.60892687, 0.40266628, ..., 0.68013824, 0.54974932,\n",
       "       0.33899284])"
      ]
     },
     "execution_count": 18,
     "metadata": {},
     "output_type": "execute_result"
    }
   ],
   "source": [
    "sigmoid_values"
   ]
  },
  {
   "cell_type": "markdown",
   "metadata": {
    "id": "kU66oW0ynWNh"
   },
   "source": [
    "### 4. Пользуясь написанной функцией сигмоиды, напишите функцию, вычисляющую предсказание вероятности того, что значение принадлежит классу единица в случае множества признаков $\\vec{p} =\\sigma(\\tilde{X}\\vec{w})$, где $\\tilde{X} $ - матрица признаков с присоединённым слева столбцом единиц. Назовите эту функцию predict_proba. Вычислите её значения на сгенерированных признаках X и на случайном векторе $w$ нужной длины."
   ]
  },
  {
   "cell_type": "raw",
   "metadata": {
    "id": "zenxivzXnWNh"
   },
   "source": [
    "def predict_proba(w, X):\n",
    "        return ..."
   ]
  },
  {
   "cell_type": "code",
   "execution_count": 19,
   "metadata": {
    "id": "Jrv5l5_SnWNh"
   },
   "outputs": [],
   "source": [
    "def predict_proba(w, X):\n",
    "    return sigmoid(X_(X) @ w)"
   ]
  },
  {
   "cell_type": "code",
   "execution_count": 20,
   "metadata": {
    "colab": {
     "base_uri": "https://localhost:8080/"
    },
    "id": "l4dkplThrNjC",
    "outputId": "ca860f8d-ad02-4441-e237-3ecd8504816c"
   },
   "outputs": [
    {
     "data": {
      "text/plain": [
       "array([8.97095919e-03, 9.99967443e-01, 3.05800906e-06, ...,\n",
       "       9.98854577e-01, 9.83140007e-01, 1.45751957e-02])"
      ]
     },
     "execution_count": 20,
     "metadata": {},
     "output_type": "execute_result"
    }
   ],
   "source": [
    "predict_proba(np.random.randn(X.shape[1]+1), X)"
   ]
  },
  {
   "cell_type": "markdown",
   "metadata": {
    "id": "dejU_eixwAaE"
   },
   "source": [
    "### 5. Напишите функцию, которая вычисляет градиент функции ошибки (logLoss) с множеством признаков в матричном виде.  Примените функцию к сгенерированным выше данным X, y, а в качестве $w$ возьмите массив случайных чисел нужной размерности.\n",
    "\n",
    "Указание: $\\overrightarrow{{grad} (logLoss)}  = \\frac{1}{n}\\tilde{X}^T(\\sigma(\\tilde{X}w)- y)$, здесь $\\tilde{X}$ - это матрица X c присоединённым к ней столбцом единиц слева, а n - число строк матрицы X. Назовите созданную функцию gradient_F."
   ]
  },
  {
   "cell_type": "raw",
   "metadata": {
    "id": "ZP903RdHnWNh"
   },
   "source": [
    "def gradient_F(w, X, y):\n",
    "        return ..."
   ]
  },
  {
   "cell_type": "code",
   "execution_count": 21,
   "metadata": {
    "id": "opd6VUJmnWNi"
   },
   "outputs": [],
   "source": [
    "def gradient_F(w, X, y):\n",
    "    X_tilde = X_(X)\n",
    "    n = X.shape[0]\n",
    "    return (1/n) * X_tilde.T @ (sigmoid(X_tilde @ w) - y)"
   ]
  },
  {
   "cell_type": "code",
   "execution_count": 22,
   "metadata": {
    "colab": {
     "base_uri": "https://localhost:8080/"
    },
    "id": "oY-5GO9JrllZ",
    "outputId": "19126beb-b9e4-412b-b8a7-a04e4e34eb8c"
   },
   "outputs": [
    {
     "data": {
      "text/plain": [
       "array([ 0.16837549, -0.03040851,  0.7102251 ,  0.33022245,  0.14425226,\n",
       "       -0.56013353])"
      ]
     },
     "execution_count": 22,
     "metadata": {},
     "output_type": "execute_result"
    }
   ],
   "source": [
    "gradient_F(np.random.randn(X.shape[1]+1), X, y)"
   ]
  },
  {
   "cell_type": "markdown",
   "metadata": {
    "id": "cfvz4uwJwAaF"
   },
   "source": [
    "### 6. Создайте класс, реализующий модель логистической регрессии для данных имеющих произвольное количество признаков (столбцов). Создайте экземпляр класса, обучите модель и выведите получившиеся коэффициенты гиперплоскости (смещение и веса).\n",
    "Указание: Необходимо создать класс, реализующий метод градиентного спуска для logLoss функции.\n",
    "Воспользуйтесь для этого классом GradientDiscent, написанный в предыдущих ноутбуках, добавив туда написанные выше функции X_, sigmoig, predict_proba и gradient_F в качестве методов. В методе fit задайте стартовое значение массивом нулей нужной длины. В функции GD параметры a и b можно заменить на X, y для наглядности."
   ]
  },
  {
   "cell_type": "raw",
   "metadata": {
    "id": "Pw03LM5ZnWNi"
   },
   "source": [
    "class GradientDiscent():\n",
    "    def __init__(self, max_iter):\n",
    "        self.w = None\n",
    "        self.max_iter_ = max_iter\n",
    "\n",
    "    def X_(self, X):\n",
    "        return  ...\n",
    "\n",
    "    def sigmoid(self, Z):\n",
    "        return ...\n",
    "\n",
    "    def predict_proba(self, X):\n",
    "        return ...\n",
    "\n",
    "    def gradient_F(self, X, y):\n",
    "        return ...\n",
    "\n",
    "    def GD(self, a, b, w_start, learning_rate=0.2):\n",
    "        self.w = w_start\n",
    "\n",
    "        for _ in range(self.max_iter_):\n",
    "            self.w = self.w - learning_rate *self.gradient_F(self.w, a, b)\n",
    "        assert (-1e+06 < self.w).all() and (self.w < 1e+06).all(), \"Расходимость: слишком большой learning_rate, либо неудачно выбрана начальная точка, либо минимум не достигается\"\n",
    "        assert (-1e-04 < self.gradient_F(self.w, a, b)).all() and (self.gradient_F(self.w, a, b) < 1e-04).all(), \"Недостаточно шагов градиентного спуска\"\n",
    "\n",
    "    def fit(self, a, b):\n",
    "        w_start = ...\n",
    "        self.GD(a, b, w_start)"
   ]
  },
  {
   "cell_type": "code",
   "execution_count": 23,
   "metadata": {
    "id": "3UNiheYhnWNi"
   },
   "outputs": [],
   "source": [
    "class GradientDiscent():\n",
    "    def __init__(self, max_iter):\n",
    "        self.w = None\n",
    "        self.max_iter_ = max_iter\n",
    "\n",
    "    def X_(self, matrix):\n",
    "        ones_column = np.ones((matrix.shape[0], 1))\n",
    "        return np.concatenate((ones_column, matrix), axis=1)\n",
    "\n",
    "    def sigmoid(self, Z):\n",
    "        return 1 / (1 + np.exp(-Z))\n",
    "\n",
    "\n",
    "    def predict_proba(self, X):\n",
    "        return sigmoid(self.X_(X) @ self.w)\n",
    "\n",
    "    def gradient_F(self, X, y):\n",
    "        X_tilde = self.X_(X)\n",
    "        n = X.shape[0]\n",
    "        return (1/n) * X_tilde.T @ (self.sigmoid(X_tilde @ self.w) - y)\n",
    "\n",
    "    def GD(self, a, b, w_start, learning_rate=0.2):\n",
    "        self.w = w_start\n",
    "\n",
    "        for _ in range(self.max_iter_):\n",
    "            self.w = self.w - learning_rate *self.gradient_F( a, b)\n",
    "        assert (-1e+06 < self.w).all() and (self.w < 1e+06).all(), \"Расходимость: слишком большой learning_rate, либо неудачно выбрана начальная точка, либо минимум не достигается\"\n",
    "        assert (-1e-04 < self.gradient_F( a, b)).all() and (self.gradient_F( a, b) < 1e-04).all(), \"Недостаточно шагов градиентного спуска\"\n",
    "\n",
    "    def fit(self, a, b):\n",
    "        w_start = np.zeros(X.shape[1]+1)\n",
    "        self.GD(a, b, w_start)"
   ]
  },
  {
   "cell_type": "code",
   "execution_count": 24,
   "metadata": {
    "colab": {
     "base_uri": "https://localhost:8080/"
    },
    "id": "qckvsog5tp_E",
    "outputId": "3768054a-3df5-4983-8c79-30d5d18c4106"
   },
   "outputs": [
    {
     "data": {
      "text/plain": [
       "array([ 0.44709739, -0.38298848, -0.39588029, -0.47516881,  0.55770682,\n",
       "        0.6560614 ])"
      ]
     },
     "execution_count": 24,
     "metadata": {},
     "output_type": "execute_result"
    }
   ],
   "source": [
    "gd = GradientDiscent(max_iter = 1000)\n",
    "gd.fit(X, y)\n",
    "gd.w"
   ]
  },
  {
   "cell_type": "markdown",
   "metadata": {
    "id": "0QgIo9yp4r_y"
   },
   "source": [
    "### 7. Напечатайте уравнение pазделяющей гиперплоскости, полученной в результате применения модели логистической регрессии к данным X, y.\n",
    "Указание: Используйте print. Уравнение гиперплоскости должно иметь вид $w_0 + w_1 x_1+ w_2 x_2 + \\dots + w_m x_m = 0$. Выводите коэффициенты гиперплоскости с точностью два знака после запятой. Учтите то, что эти коэффициенты могут быть и отрицательными."
   ]
  },
  {
   "cell_type": "markdown",
   "metadata": {
    "id": "Wh-JCGLWvLb5"
   },
   "source": []
  },
  {
   "cell_type": "code",
   "execution_count": 25,
   "metadata": {
    "colab": {
     "base_uri": "https://localhost:8080/"
    },
    "id": "0eZwbLgPxmAJ",
    "outputId": "4b5dcadc-c492-4c99-f4e5-c9b2953ea145"
   },
   "outputs": [
    {
     "name": "stdout",
     "output_type": "stream",
     "text": [
      "0.45 -0.38*x1 -0.40*x2 -0.48*x3 + 0.56*x4 + 0.66*x5 = 0\n"
     ]
    }
   ],
   "source": [
    "result = f'{gd.w[0]:.2f}'\n",
    "for i in range(1, len(gd.w)):\n",
    "    if gd.w[i] > 0:\n",
    "        result += f' + {gd.w[i]:.2f}*x{i}'\n",
    "    else:\n",
    "        result += f' {gd.w[i]:.2f}*x{i}'\n",
    "print(f'{result} = 0')"
   ]
  },
  {
   "cell_type": "markdown",
   "metadata": {
    "id": "ZJx4Wo6pxlwJ"
   },
   "source": []
  },
  {
   "cell_type": "markdown",
   "metadata": {
    "id": "0Eq4wPqYnWNi"
   },
   "source": [
    "### 8. Используя построенную модель логистической регрессии, выведите значения вероятностей для объектов из X быть отнесёнными к классу единица. Найдите значения вероятностей для объектов из X быть отнесёнными к классу нуль.\n",
    "Указание: Для того, чтобы вывести значения вероятностей, используйте метод predict_proba."
   ]
  },
  {
   "cell_type": "markdown",
   "metadata": {
    "id": "aOo638r7yzVK"
   },
   "source": [
    "P(X=1)"
   ]
  },
  {
   "cell_type": "code",
   "execution_count": 26,
   "metadata": {
    "colab": {
     "base_uri": "https://localhost:8080/"
    },
    "id": "B0Xy6ncCnWNn",
    "outputId": "5500c118-ef7e-4c35-a9c3-8d57a4775ad6"
   },
   "outputs": [
    {
     "data": {
      "text/plain": [
       "array([0.42012909, 0.87449577, 0.67519883, ..., 0.43894673, 0.61899618,\n",
       "       0.10531337])"
      ]
     },
     "execution_count": 26,
     "metadata": {},
     "output_type": "execute_result"
    }
   ],
   "source": [
    "gd.predict_proba(X)"
   ]
  },
  {
   "cell_type": "markdown",
   "metadata": {
    "id": "w63CY7yjy7V6"
   },
   "source": [
    "P(X=0)"
   ]
  },
  {
   "cell_type": "code",
   "execution_count": 27,
   "metadata": {
    "colab": {
     "base_uri": "https://localhost:8080/"
    },
    "id": "Rxze2ykhy4hi",
    "outputId": "f54e7750-85d4-46c2-ca9b-84a6f94c4d27"
   },
   "outputs": [
    {
     "data": {
      "text/plain": [
       "array([0.57987091, 0.12550423, 0.32480117, ..., 0.56105327, 0.38100382,\n",
       "       0.89468663])"
      ]
     },
     "execution_count": 27,
     "metadata": {},
     "output_type": "execute_result"
    }
   ],
   "source": [
    "1-gd.predict_proba(X)"
   ]
  },
  {
   "cell_type": "markdown",
   "metadata": {
    "id": "DvHH0TE86wvg"
   },
   "source": [
    "### 9. Добавьте в класс, реализующий модель логистической регрессии, метод predict, осуществляющий предсказание меток классов. Назовите созданный класс Logistic_Regression. Сделайте предсказание на X.\n",
    "Указание: Предсказания приинадлежности к классу вычисляются  так: если вероятность принадлежать классу единица больше 1/2, т.е. $\\sigma(\\tilde{X}w) > 1/2$, то присваиваем метку класса - единица, в противном случае метка класса - нуль."
   ]
  },
  {
   "cell_type": "markdown",
   "metadata": {
    "id": "mmLMvhxfnWNn"
   },
   "source": [
    "### 10. Определите количество ошибок предсказания на X, сделанных классификатором, т.е. найдите количество неверно предсказанных значений.\n",
    "Указание: Для этого сравните истинные и предсказанные значения."
   ]
  },
  {
   "cell_type": "code",
   "execution_count": 85,
   "metadata": {
    "id": "7X3wgNq8nWNn"
   },
   "outputs": [],
   "source": [
    "class Logistic_Regression():\n",
    "    def __init__(self, max_iter):\n",
    "        self.w = None\n",
    "        self.max_iter_ = max_iter\n",
    "\n",
    "    def X_(self, matrix):\n",
    "        ones_column = np.ones((matrix.shape[0], 1))\n",
    "        return np.concatenate((ones_column, matrix), axis=1)\n",
    "\n",
    "    def sigmoid(self, Z):\n",
    "        return 1 / (1 + np.exp(-Z))\n",
    "\n",
    "\n",
    "    def predict_proba(self, X):\n",
    "        return sigmoid(self.X_(X) @ self.w)\n",
    "\n",
    "    def predict(self, X):\n",
    "        y_pred = self.predict_proba(X) <= 0.5\n",
    "        return np.where(y_pred==False, 0, y_pred)\n",
    "\n",
    "    def gradient_F(self, X, y):\n",
    "        X_tilde = self.X_(X)\n",
    "        n = X.shape[0]\n",
    "        return (1/n) * X_tilde.T @ (self.sigmoid(X_tilde @ self.w) - y)\n",
    "\n",
    "    def GD(self, a, b, w_start, learning_rate=0.2):\n",
    "        self.w = w_start\n",
    "\n",
    "        for _ in range(self.max_iter_):\n",
    "            self.w = self.w - learning_rate *self.gradient_F( a, b)\n",
    "        assert (-1e+06 < self.w).all() and (self.w < 1e+06).all(), \"Расходимость: слишком большой learning_rate, либо неудачно выбрана начальная точка, либо минимум не достигается\"\n",
    "        assert (-1e-04 < self.gradient_F( a, b)).all() and (self.gradient_F( a, b) < 1e-04).all(), \"Недостаточно шагов градиентного спуска\"\n",
    "\n",
    "    def fit(self, a, b):\n",
    "        w_start = np.zeros(X.shape[1]+1)\n",
    "        self.GD(a, b, w_start)"
   ]
  },
  {
   "cell_type": "code",
   "execution_count": 86,
   "metadata": {
    "id": "cntDdkTQzciY"
   },
   "outputs": [],
   "source": [
    "LR = Logistic_Regression(10000)\n",
    "LR.fit(X, y)"
   ]
  },
  {
   "cell_type": "code",
   "execution_count": 87,
   "metadata": {
    "colab": {
     "base_uri": "https://localhost:8080/"
    },
    "id": "FVaBT4HezeCK",
    "outputId": "622cbfea-7374-4909-a742-ee6d08836bcd"
   },
   "outputs": [
    {
     "data": {
      "text/plain": [
       "array([1, 0, 0, ..., 1, 0, 1])"
      ]
     },
     "execution_count": 87,
     "metadata": {},
     "output_type": "execute_result"
    }
   ],
   "source": [
    "LR.predict(X)"
   ]
  },
  {
   "cell_type": "markdown",
   "metadata": {
    "id": "hfwuIMDG_0-H"
   },
   "source": [
    "### 11. Создайте новое наблюдение, например, взяв среднее значение по каждому столбцу X. Сделайте предсказание на нём.\n",
    "Указание: Обртите внимание, что метод predict принимает только двумерные numpy-массивы."
   ]
  },
  {
   "cell_type": "code",
   "execution_count": 88,
   "metadata": {
    "colab": {
     "base_uri": "https://localhost:8080/"
    },
    "id": "f_HqFx0gnWNo",
    "outputId": "718d5616-587a-4405-a4b6-42879b57cb53"
   },
   "outputs": [
    {
     "data": {
      "text/plain": [
       "array([[-0.00174691,  0.49474413,  0.48254756,  0.4959671 , -0.50491812]])"
      ]
     },
     "execution_count": 88,
     "metadata": {},
     "output_type": "execute_result"
    }
   ],
   "source": [
    "means = np.mean(X, axis = 0).reshape(1,5)\n",
    "means"
   ]
  },
  {
   "cell_type": "code",
   "execution_count": 89,
   "metadata": {
    "colab": {
     "base_uri": "https://localhost:8080/"
    },
    "id": "Kk-9FGP20-x5",
    "outputId": "413f5f86-ad9b-4355-9eb6-8693f77e3b86"
   },
   "outputs": [
    {
     "data": {
      "text/plain": [
       "array([1])"
      ]
     },
     "execution_count": 89,
     "metadata": {},
     "output_type": "execute_result"
    }
   ],
   "source": [
    "LR.predict(means)"
   ]
  },
  {
   "cell_type": "markdown",
   "metadata": {
    "id": "n2yvqUwkGuno"
   },
   "source": [
    "### 12. Реализуйте в классе Logistic_Regression оптимизацию не методом градиентного спуска, а методом стохастического градиентного спуска. Назовите полученный класс Logistic_Regression_SGD. Вычислите коэффициенты гиперплоскости w и убедитесь, что они получились приблизительно теми же.\n",
    "Указание: indexes = np.random.choice(np.arange(X.shape[0]), size=3000)"
   ]
  },
  {
   "cell_type": "code",
   "execution_count": 69,
   "metadata": {
    "id": "bQeEjHsknWNo"
   },
   "outputs": [],
   "source": [
    "class Logistic_Regression_SGD():\n",
    "    def __init__(self, max_iter):\n",
    "        self.w = None\n",
    "        self.max_iter_ = max_iter\n",
    "\n",
    "    def X_(self, matrix):\n",
    "        ones_column = np.ones((matrix.shape[0], 1))\n",
    "        return np.concatenate((ones_column, matrix), axis=1)\n",
    "\n",
    "    def sigmoid(self, Z):\n",
    "        return 1 / (1 + np.exp(-Z))\n",
    "\n",
    "\n",
    "    def predict_proba(self, X):\n",
    "        return sigmoid(self.X_(X) @ self.w)\n",
    "\n",
    "    def predict(self, X):\n",
    "        y_pred = self.predict_proba(X) <= 0.5\n",
    "        return np.where(y_pred==False, 0, y_pred)\n",
    "\n",
    "    def gradient_F(self, X, y, indexes):\n",
    "        X_tilde = self.X_(X[indexes])\n",
    "        n = X[indexes].shape[0]\n",
    "        return (1/n) * X_tilde.T @ (self.sigmoid(X_tilde @ self.w) - y[indexes])\n",
    "\n",
    "    def SGD(self, a, b, w_start, learning_rate=0.2):\n",
    "        self.w = w_start\n",
    "        indexes = np.random.choice(np.arange(X.shape[0]), size=3000)\n",
    "        for _ in range(self.max_iter_):\n",
    "            self.w = self.w - learning_rate *self.gradient_F( a, b, indexes)\n",
    "        assert (-1e+06 < self.w).all() and (self.w < 1e+06).all(), \"Расходимость: слишком большой learning_rate, либо неудачно выбрана начальная точка, либо минимум не достигается\"\n",
    "        assert (-1e-04 < self.gradient_F( a, b, indexes)).all() and (self.gradient_F( a, b, indexes) < 1e-04).all(), \"Недостаточно шагов градиентного спуска\"\n",
    "\n",
    "    def fit(self, a, b):\n",
    "        w_start = np.zeros(X.shape[1]+1)\n",
    "        self.SGD(a, b, w_start)"
   ]
  },
  {
   "cell_type": "code",
   "execution_count": 70,
   "metadata": {
    "id": "Ij7APkDO2Dhb"
   },
   "outputs": [],
   "source": [
    "LR_SGD = Logistic_Regression_SGD(1000)\n",
    "LR_SGD.fit(X, y)"
   ]
  },
  {
   "cell_type": "code",
   "execution_count": 71,
   "metadata": {
    "colab": {
     "base_uri": "https://localhost:8080/"
    },
    "id": "EUmEade42TiI",
    "outputId": "a9ab6446-d68c-42ad-e7fd-d96a8c1f247b"
   },
   "outputs": [
    {
     "data": {
      "text/plain": [
       "array([ 0.46652629, -0.39180247, -0.38933864, -0.49273229,  0.58775381,\n",
       "        0.65220832])"
      ]
     },
     "execution_count": 71,
     "metadata": {},
     "output_type": "execute_result"
    }
   ],
   "source": [
    "LR_SGD.w"
   ]
  },
  {
   "cell_type": "code",
   "execution_count": 72,
   "metadata": {
    "colab": {
     "base_uri": "https://localhost:8080/"
    },
    "id": "cEaoffrU2Wio",
    "outputId": "337b3ef7-5075-4b12-f27b-db41fa29e086"
   },
   "outputs": [
    {
     "data": {
      "text/plain": [
       "array([ 0.44709741, -0.38298848, -0.39588029, -0.47516881,  0.55770681,\n",
       "        0.65606141])"
      ]
     },
     "execution_count": 72,
     "metadata": {},
     "output_type": "execute_result"
    }
   ],
   "source": [
    "LR.w"
   ]
  },
  {
   "cell_type": "markdown",
   "metadata": {
    "id": "CxXDo2xxkYhn"
   },
   "source": [
    "### 13. Сравните время обучения моделей логистической регрессии, реализованных методом градиентного спуска и стохастического градиентного спуска с одинаковым количеством итераций градиентного спуска.\n",
    "Указание: Возьмите max_iter = 1000."
   ]
  },
  {
   "cell_type": "code",
   "execution_count": 73,
   "metadata": {
    "id": "qRLaZqA2nWNo"
   },
   "outputs": [
    {
     "name": "stdout",
     "output_type": "stream",
     "text": [
      "CPU times: total: 4.34 s\n",
      "Wall time: 3.35 s\n"
     ]
    }
   ],
   "source": [
    "%%time\n",
    "LR.fit(X, y)"
   ]
  },
  {
   "cell_type": "code",
   "execution_count": 74,
   "metadata": {},
   "outputs": [
    {
     "name": "stdout",
     "output_type": "stream",
     "text": [
      "CPU times: total: 328 ms\n",
      "Wall time: 324 ms\n"
     ]
    }
   ],
   "source": [
    "%%time\n",
    "LR_SGD.fit(X, y)"
   ]
  },
  {
   "cell_type": "markdown",
   "metadata": {
    "id": "rYi_Aoa-wAaX"
   },
   "source": [
    "### 14. Создайте класс модели логистической регрессии из библиотеки sklearn. Обучите модель на сгенерированных данных и выведите коэффициенты гиперплоскости.\n",
    "\n",
    " Указание: Воспользуйтесь классом [LogisticRegression](https://scikit-learn.org/1.5/modules/generated/sklearn.linear_model.LogisticRegression.html). Оптимальное коэффициенты гиперплоскости выводятся так: смещение выводится при помощи атрибута intercept_, а оптимальные веса при помощи атрибута coef_."
   ]
  },
  {
   "cell_type": "code",
   "execution_count": 75,
   "metadata": {
    "id": "OgMtDefynWNo"
   },
   "outputs": [
    {
     "data": {
      "text/html": [
       "<style>#sk-container-id-4 {color: black;}#sk-container-id-4 pre{padding: 0;}#sk-container-id-4 div.sk-toggleable {background-color: white;}#sk-container-id-4 label.sk-toggleable__label {cursor: pointer;display: block;width: 100%;margin-bottom: 0;padding: 0.3em;box-sizing: border-box;text-align: center;}#sk-container-id-4 label.sk-toggleable__label-arrow:before {content: \"▸\";float: left;margin-right: 0.25em;color: #696969;}#sk-container-id-4 label.sk-toggleable__label-arrow:hover:before {color: black;}#sk-container-id-4 div.sk-estimator:hover label.sk-toggleable__label-arrow:before {color: black;}#sk-container-id-4 div.sk-toggleable__content {max-height: 0;max-width: 0;overflow: hidden;text-align: left;background-color: #f0f8ff;}#sk-container-id-4 div.sk-toggleable__content pre {margin: 0.2em;color: black;border-radius: 0.25em;background-color: #f0f8ff;}#sk-container-id-4 input.sk-toggleable__control:checked~div.sk-toggleable__content {max-height: 200px;max-width: 100%;overflow: auto;}#sk-container-id-4 input.sk-toggleable__control:checked~label.sk-toggleable__label-arrow:before {content: \"▾\";}#sk-container-id-4 div.sk-estimator input.sk-toggleable__control:checked~label.sk-toggleable__label {background-color: #d4ebff;}#sk-container-id-4 div.sk-label input.sk-toggleable__control:checked~label.sk-toggleable__label {background-color: #d4ebff;}#sk-container-id-4 input.sk-hidden--visually {border: 0;clip: rect(1px 1px 1px 1px);clip: rect(1px, 1px, 1px, 1px);height: 1px;margin: -1px;overflow: hidden;padding: 0;position: absolute;width: 1px;}#sk-container-id-4 div.sk-estimator {font-family: monospace;background-color: #f0f8ff;border: 1px dotted black;border-radius: 0.25em;box-sizing: border-box;margin-bottom: 0.5em;}#sk-container-id-4 div.sk-estimator:hover {background-color: #d4ebff;}#sk-container-id-4 div.sk-parallel-item::after {content: \"\";width: 100%;border-bottom: 1px solid gray;flex-grow: 1;}#sk-container-id-4 div.sk-label:hover label.sk-toggleable__label {background-color: #d4ebff;}#sk-container-id-4 div.sk-serial::before {content: \"\";position: absolute;border-left: 1px solid gray;box-sizing: border-box;top: 0;bottom: 0;left: 50%;z-index: 0;}#sk-container-id-4 div.sk-serial {display: flex;flex-direction: column;align-items: center;background-color: white;padding-right: 0.2em;padding-left: 0.2em;position: relative;}#sk-container-id-4 div.sk-item {position: relative;z-index: 1;}#sk-container-id-4 div.sk-parallel {display: flex;align-items: stretch;justify-content: center;background-color: white;position: relative;}#sk-container-id-4 div.sk-item::before, #sk-container-id-4 div.sk-parallel-item::before {content: \"\";position: absolute;border-left: 1px solid gray;box-sizing: border-box;top: 0;bottom: 0;left: 50%;z-index: -1;}#sk-container-id-4 div.sk-parallel-item {display: flex;flex-direction: column;z-index: 1;position: relative;background-color: white;}#sk-container-id-4 div.sk-parallel-item:first-child::after {align-self: flex-end;width: 50%;}#sk-container-id-4 div.sk-parallel-item:last-child::after {align-self: flex-start;width: 50%;}#sk-container-id-4 div.sk-parallel-item:only-child::after {width: 0;}#sk-container-id-4 div.sk-dashed-wrapped {border: 1px dashed gray;margin: 0 0.4em 0.5em 0.4em;box-sizing: border-box;padding-bottom: 0.4em;background-color: white;}#sk-container-id-4 div.sk-label label {font-family: monospace;font-weight: bold;display: inline-block;line-height: 1.2em;}#sk-container-id-4 div.sk-label-container {text-align: center;}#sk-container-id-4 div.sk-container {/* jupyter's `normalize.less` sets `[hidden] { display: none; }` but bootstrap.min.css set `[hidden] { display: none !important; }` so we also need the `!important` here to be able to override the default hidden behavior on the sphinx rendered scikit-learn.org. See: https://github.com/scikit-learn/scikit-learn/issues/21755 */display: inline-block !important;position: relative;}#sk-container-id-4 div.sk-text-repr-fallback {display: none;}</style><div id=\"sk-container-id-4\" class=\"sk-top-container\"><div class=\"sk-text-repr-fallback\"><pre>LogisticRegression(max_iter=1000)</pre><b>In a Jupyter environment, please rerun this cell to show the HTML representation or trust the notebook. <br />On GitHub, the HTML representation is unable to render, please try loading this page with nbviewer.org.</b></div><div class=\"sk-container\" hidden><div class=\"sk-item\"><div class=\"sk-estimator sk-toggleable\"><input class=\"sk-toggleable__control sk-hidden--visually\" id=\"sk-estimator-id-4\" type=\"checkbox\" checked><label for=\"sk-estimator-id-4\" class=\"sk-toggleable__label sk-toggleable__label-arrow\">LogisticRegression</label><div class=\"sk-toggleable__content\"><pre>LogisticRegression(max_iter=1000)</pre></div></div></div></div></div>"
      ],
      "text/plain": [
       "LogisticRegression(max_iter=1000)"
      ]
     },
     "execution_count": 75,
     "metadata": {},
     "output_type": "execute_result"
    }
   ],
   "source": [
    "sk_lr = LogisticRegression(max_iter = 1000)\n",
    "sk_lr.fit(X, y)"
   ]
  },
  {
   "cell_type": "code",
   "execution_count": 76,
   "metadata": {},
   "outputs": [
    {
     "data": {
      "text/plain": [
       "array([0.44687439])"
      ]
     },
     "execution_count": 76,
     "metadata": {},
     "output_type": "execute_result"
    }
   ],
   "source": [
    "sk_lr.intercept_"
   ]
  },
  {
   "cell_type": "code",
   "execution_count": 77,
   "metadata": {},
   "outputs": [
    {
     "data": {
      "text/plain": [
       "array([[-0.38262394, -0.39572413, -0.47498568,  0.55739162,  0.65560566]])"
      ]
     },
     "execution_count": 77,
     "metadata": {},
     "output_type": "execute_result"
    }
   ],
   "source": [
    "sk_lr.coef_"
   ]
  },
  {
   "cell_type": "markdown",
   "metadata": {
    "id": "95cgQC6JnWNp"
   },
   "source": [
    "### 15. Сделайте предсказание на X для модели из sklearn. Определите количество ошибок, сделанных моделью.\n",
    "Указание: Для того, чтобы сделать предсказание, используйте метод predict."
   ]
  },
  {
   "cell_type": "code",
   "execution_count": 78,
   "metadata": {
    "id": "FMluaTp6nWNp"
   },
   "outputs": [],
   "source": [
    "y_pred = sk_lr.predict(X)"
   ]
  },
  {
   "cell_type": "code",
   "execution_count": 79,
   "metadata": {},
   "outputs": [
    {
     "data": {
      "text/plain": [
       "2230"
      ]
     },
     "execution_count": 79,
     "metadata": {},
     "output_type": "execute_result"
    }
   ],
   "source": [
    "sum(y != y_pred)"
   ]
  },
  {
   "cell_type": "markdown",
   "metadata": {
    "id": "ACHZsLFhnWNp"
   },
   "source": [
    "### 16. Сделайте предсказание для модели логистической регрессии из sklearn на новом наблюдении, полученном как среднее значение по каждому столбцу. Убедитесь, что предсказанный класс будет тем же, что и у модели логистической регрессии, написанной своими руками."
   ]
  },
  {
   "cell_type": "code",
   "execution_count": 80,
   "metadata": {
    "id": "RKo5isM-nWNp"
   },
   "outputs": [
    {
     "data": {
      "text/plain": [
       "array([[-0.00174691,  0.49474413,  0.48254756,  0.4959671 , -0.50491812]])"
      ]
     },
     "execution_count": 80,
     "metadata": {},
     "output_type": "execute_result"
    }
   ],
   "source": [
    "means = np.mean(X, axis=0).reshape(1, 5)\n",
    "means"
   ]
  },
  {
   "cell_type": "code",
   "execution_count": 81,
   "metadata": {},
   "outputs": [
    {
     "data": {
      "text/plain": [
       "array([0])"
      ]
     },
     "execution_count": 81,
     "metadata": {},
     "output_type": "execute_result"
    }
   ],
   "source": [
    "sk_lr.predict(means)"
   ]
  },
  {
   "cell_type": "code",
   "execution_count": 82,
   "metadata": {},
   "outputs": [
    {
     "data": {
      "text/plain": [
       "array([1])"
      ]
     },
     "execution_count": 82,
     "metadata": {},
     "output_type": "execute_result"
    }
   ],
   "source": [
    "LR.predict(means)"
   ]
  },
  {
   "cell_type": "markdown",
   "metadata": {
    "id": "Z0q1zaSCnWNp"
   },
   "source": [
    "### 17. Для построенной модели логистической регрессии из sklearn выведите значения вероятностей для каждого объекта из X быть отнесённым к тому или иному классу. Выведите значения вероятностей для объектов из X быть отнесёнными к классу единица.\n",
    "Указание: Для того, чтобы вывести значения вероятностей, используйте метод predict_proba."
   ]
  },
  {
   "cell_type": "code",
   "execution_count": 83,
   "metadata": {},
   "outputs": [
    {
     "data": {
      "text/plain": [
       "array([[0.57980817, 0.42019183],\n",
       "       [0.12562486, 0.87437514],\n",
       "       [0.3248051 , 0.6751949 ],\n",
       "       ...,\n",
       "       [0.56105598, 0.43894402],\n",
       "       [0.38106198, 0.61893802],\n",
       "       [0.89459654, 0.10540346]])"
      ]
     },
     "execution_count": 83,
     "metadata": {},
     "output_type": "execute_result"
    }
   ],
   "source": [
    "sk_lr.predict_proba(X)"
   ]
  },
  {
   "cell_type": "code",
   "execution_count": 63,
   "metadata": {},
   "outputs": [
    {
     "data": {
      "text/plain": [
       "array([0.42019183, 0.87437514, 0.6751949 , 0.64220003, 0.64660548,\n",
       "       0.72816682, 0.35569768, 0.50815255, 0.41919408, 0.51044708])"
      ]
     },
     "execution_count": 63,
     "metadata": {},
     "output_type": "execute_result"
    }
   ],
   "source": [
    "sk_lr.predict_proba(X)[:, 1][:10]"
   ]
  },
  {
   "cell_type": "code",
   "execution_count": 84,
   "metadata": {},
   "outputs": [
    {
     "data": {
      "text/plain": [
       "array([[0.50800478, 0.49199522]])"
      ]
     },
     "execution_count": 84,
     "metadata": {},
     "output_type": "execute_result"
    }
   ],
   "source": [
    "sk_lr.predict_proba(means)"
   ]
  },
  {
   "cell_type": "code",
   "execution_count": null,
   "metadata": {},
   "outputs": [],
   "source": []
  }
 ],
 "metadata": {
  "colab": {
   "provenance": []
  },
  "kernelspec": {
   "display_name": "Python 3 (ipykernel)",
   "language": "python",
   "name": "python3"
  },
  "language_info": {
   "codemirror_mode": {
    "name": "ipython",
    "version": 3
   },
   "file_extension": ".py",
   "mimetype": "text/x-python",
   "name": "python",
   "nbconvert_exporter": "python",
   "pygments_lexer": "ipython3",
   "version": "3.12.3"
  }
 },
 "nbformat": 4,
 "nbformat_minor": 4
}
